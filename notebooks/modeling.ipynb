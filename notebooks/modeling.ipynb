{
 "cells": [
  {
   "cell_type": "markdown",
   "metadata": {},
   "source": [
    "# Import Libraries"
   ]
  },
  {
   "cell_type": "code",
   "execution_count": 1,
   "metadata": {},
   "outputs": [
    {
     "name": "stderr",
     "output_type": "stream",
     "text": [
      "2023-11-13 00:12:18.137615: I tensorflow/core/util/port.cc:111] oneDNN custom operations are on. You may see slightly different numerical results due to floating-point round-off errors from different computation orders. To turn them off, set the environment variable `TF_ENABLE_ONEDNN_OPTS=0`.\n",
      "2023-11-13 00:12:18.179879: E tensorflow/compiler/xla/stream_executor/cuda/cuda_dnn.cc:9342] Unable to register cuDNN factory: Attempting to register factory for plugin cuDNN when one has already been registered\n",
      "2023-11-13 00:12:18.179940: E tensorflow/compiler/xla/stream_executor/cuda/cuda_fft.cc:609] Unable to register cuFFT factory: Attempting to register factory for plugin cuFFT when one has already been registered\n",
      "2023-11-13 00:12:18.179983: E tensorflow/compiler/xla/stream_executor/cuda/cuda_blas.cc:1518] Unable to register cuBLAS factory: Attempting to register factory for plugin cuBLAS when one has already been registered\n",
      "2023-11-13 00:12:18.190208: I tensorflow/core/platform/cpu_feature_guard.cc:182] This TensorFlow binary is optimized to use available CPU instructions in performance-critical operations.\n",
      "To enable the following instructions: AVX2 AVX512F AVX512_VNNI FMA, in other operations, rebuild TensorFlow with the appropriate compiler flags.\n"
     ]
    }
   ],
   "source": [
    "from transformers.auto_correlation import AutocorrelationTransformer\n",
    "from transformers.seasonality import SeasonalityFeaturesTransformer\n",
    "from transformers.interpolation import InterpolationTransformer\n",
    "from transformers.trend import TrendTransformer\n",
    "from sklearn.preprocessing import PolynomialFeatures\n",
    "from sklearn.model_selection import cross_val_score\n",
    "from sklearn.model_selection import TimeSeriesSplit\n",
    "from transformers.outlier import OutlierTransformer\n",
    "from sklearn.ensemble import RandomForestRegressor\n",
    "from sklearn.linear_model import LinearRegression\n",
    "from sklearn.neural_network import MLPRegressor\n",
    "from sklearn.tree import DecisionTreeRegressor\n",
    "from scikeras.wrappers import KerasRegressor\n",
    "from sklearn.pipeline import Pipeline\n",
    "from matplotlib import pyplot as plt\n",
    "from keras.models import Sequential\n",
    "from xgboost import XGBRegressor\n",
    "from keras.layers import Dense, LSTM\n",
    "from sklearn.svm import SVR\n",
    "from typing import List\n",
    "from glob import glob\n",
    "import pandas as pd\n",
    "import numpy as np\n",
    "import pickle\n",
    "\n",
    "import warnings\n",
    "\n",
    "warnings.filterwarnings(\"ignore\")"
   ]
  },
  {
   "cell_type": "markdown",
   "metadata": {},
   "source": [
    "# Data Loading"
   ]
  },
  {
   "cell_type": "code",
   "execution_count": 2,
   "metadata": {},
   "outputs": [],
   "source": [
    "datasets_paths = glob(\"../data/*.csv\")\n",
    "datasets: List[pd.DataFrame] = [pd.read_csv(path) for path in datasets_paths]"
   ]
  },
  {
   "cell_type": "markdown",
   "metadata": {},
   "source": [
    "## Data Preparation"
   ]
  },
  {
   "cell_type": "code",
   "execution_count": 3,
   "metadata": {},
   "outputs": [],
   "source": [
    "for i, dataset in enumerate(datasets):\n",
    "    if \"anomaly\" in dataset.columns:\n",
    "        # Replace anomalies with 'NaN'\n",
    "        dataset.loc[dataset.anomaly == 1, \"value\"] = np.nan\n",
    "\n",
    "        # Remove the 'anomaly' column\n",
    "        dataset = dataset.drop(columns=[\"anomaly\"])\n",
    "\n",
    "    # Convert the 'timestamp' column to datetime\n",
    "    dataset[\"timestamp\"] = pd.to_datetime(dataset[\"timestamp\"])\n",
    "\n",
    "    # Set the 'timestamp' column as the index\n",
    "    dataset = dataset.set_index(\"timestamp\")\n",
    "\n",
    "    # Update the dataset\n",
    "    datasets[i] = dataset"
   ]
  },
  {
   "cell_type": "markdown",
   "metadata": {},
   "source": [
    "# Load Pipelines "
   ]
  },
  {
   "cell_type": "code",
   "execution_count": 6,
   "metadata": {},
   "outputs": [
    {
     "ename": "AttributeError",
     "evalue": "Can't get attribute 'TrendTransformer' on <module '__main__'>",
     "output_type": "error",
     "traceback": [
      "\u001b[0;31m---------------------------------------------------------------------------\u001b[0m",
      "\u001b[0;31mAttributeError\u001b[0m                            Traceback (most recent call last)",
      "\u001b[1;32m/home/mmostafa/time-series-forecaster/notebooks/modeling.ipynb Cell 8\u001b[0m line \u001b[0;36m2\n\u001b[1;32m      <a href='vscode-notebook-cell://wsl%2Bubuntu/home/mmostafa/time-series-forecaster/notebooks/modeling.ipynb#W4sdnNjb2RlLXJlbW90ZQ%3D%3D?line=0'>1</a>\u001b[0m \u001b[39mwith\u001b[39;00m \u001b[39mopen\u001b[39m(\u001b[39m\"\u001b[39m\u001b[39m./pipelines/preprocessing_pipeline.pkl\u001b[39m\u001b[39m\"\u001b[39m, \u001b[39m\"\u001b[39m\u001b[39mrb\u001b[39m\u001b[39m\"\u001b[39m) \u001b[39mas\u001b[39;00m file:\n\u001b[0;32m----> <a href='vscode-notebook-cell://wsl%2Bubuntu/home/mmostafa/time-series-forecaster/notebooks/modeling.ipynb#W4sdnNjb2RlLXJlbW90ZQ%3D%3D?line=1'>2</a>\u001b[0m     preprocessing_pipeline: Pipeline \u001b[39m=\u001b[39m pickle\u001b[39m.\u001b[39;49mload(file)\n",
      "\u001b[0;31mAttributeError\u001b[0m: Can't get attribute 'TrendTransformer' on <module '__main__'>"
     ]
    }
   ],
   "source": [
    "with open(\"./pipelines/preprocessing_pipeline.pkl\", \"rb\") as file:\n",
    "    preprocessing_pipeline: Pipeline = pickle.load(file)"
   ]
  },
  {
   "cell_type": "code",
   "execution_count": null,
   "metadata": {},
   "outputs": [
    {
     "data": {
      "text/html": [
       "<style>#sk-container-id-1 {color: black;}#sk-container-id-1 pre{padding: 0;}#sk-container-id-1 div.sk-toggleable {background-color: white;}#sk-container-id-1 label.sk-toggleable__label {cursor: pointer;display: block;width: 100%;margin-bottom: 0;padding: 0.3em;box-sizing: border-box;text-align: center;}#sk-container-id-1 label.sk-toggleable__label-arrow:before {content: \"▸\";float: left;margin-right: 0.25em;color: #696969;}#sk-container-id-1 label.sk-toggleable__label-arrow:hover:before {color: black;}#sk-container-id-1 div.sk-estimator:hover label.sk-toggleable__label-arrow:before {color: black;}#sk-container-id-1 div.sk-toggleable__content {max-height: 0;max-width: 0;overflow: hidden;text-align: left;background-color: #f0f8ff;}#sk-container-id-1 div.sk-toggleable__content pre {margin: 0.2em;color: black;border-radius: 0.25em;background-color: #f0f8ff;}#sk-container-id-1 input.sk-toggleable__control:checked~div.sk-toggleable__content {max-height: 200px;max-width: 100%;overflow: auto;}#sk-container-id-1 input.sk-toggleable__control:checked~label.sk-toggleable__label-arrow:before {content: \"▾\";}#sk-container-id-1 div.sk-estimator input.sk-toggleable__control:checked~label.sk-toggleable__label {background-color: #d4ebff;}#sk-container-id-1 div.sk-label input.sk-toggleable__control:checked~label.sk-toggleable__label {background-color: #d4ebff;}#sk-container-id-1 input.sk-hidden--visually {border: 0;clip: rect(1px 1px 1px 1px);clip: rect(1px, 1px, 1px, 1px);height: 1px;margin: -1px;overflow: hidden;padding: 0;position: absolute;width: 1px;}#sk-container-id-1 div.sk-estimator {font-family: monospace;background-color: #f0f8ff;border: 1px dotted black;border-radius: 0.25em;box-sizing: border-box;margin-bottom: 0.5em;}#sk-container-id-1 div.sk-estimator:hover {background-color: #d4ebff;}#sk-container-id-1 div.sk-parallel-item::after {content: \"\";width: 100%;border-bottom: 1px solid gray;flex-grow: 1;}#sk-container-id-1 div.sk-label:hover label.sk-toggleable__label {background-color: #d4ebff;}#sk-container-id-1 div.sk-serial::before {content: \"\";position: absolute;border-left: 1px solid gray;box-sizing: border-box;top: 0;bottom: 0;left: 50%;z-index: 0;}#sk-container-id-1 div.sk-serial {display: flex;flex-direction: column;align-items: center;background-color: white;padding-right: 0.2em;padding-left: 0.2em;position: relative;}#sk-container-id-1 div.sk-item {position: relative;z-index: 1;}#sk-container-id-1 div.sk-parallel {display: flex;align-items: stretch;justify-content: center;background-color: white;position: relative;}#sk-container-id-1 div.sk-item::before, #sk-container-id-1 div.sk-parallel-item::before {content: \"\";position: absolute;border-left: 1px solid gray;box-sizing: border-box;top: 0;bottom: 0;left: 50%;z-index: -1;}#sk-container-id-1 div.sk-parallel-item {display: flex;flex-direction: column;z-index: 1;position: relative;background-color: white;}#sk-container-id-1 div.sk-parallel-item:first-child::after {align-self: flex-end;width: 50%;}#sk-container-id-1 div.sk-parallel-item:last-child::after {align-self: flex-start;width: 50%;}#sk-container-id-1 div.sk-parallel-item:only-child::after {width: 0;}#sk-container-id-1 div.sk-dashed-wrapped {border: 1px dashed gray;margin: 0 0.4em 0.5em 0.4em;box-sizing: border-box;padding-bottom: 0.4em;background-color: white;}#sk-container-id-1 div.sk-label label {font-family: monospace;font-weight: bold;display: inline-block;line-height: 1.2em;}#sk-container-id-1 div.sk-label-container {text-align: center;}#sk-container-id-1 div.sk-container {/* jupyter's `normalize.less` sets `[hidden] { display: none; }` but bootstrap.min.css set `[hidden] { display: none !important; }` so we also need the `!important` here to be able to override the default hidden behavior on the sphinx rendered scikit-learn.org. See: https://github.com/scikit-learn/scikit-learn/issues/21755 */display: inline-block !important;position: relative;}#sk-container-id-1 div.sk-text-repr-fallback {display: none;}</style><div id=\"sk-container-id-1\" class=\"sk-top-container\"><div class=\"sk-text-repr-fallback\"><pre>Pipeline(steps=[(&#x27;outlier&#x27;, OutlierTransformer()),\n",
       "                (&#x27;interpolation&#x27;, InterpolationTransformer()),\n",
       "                (&#x27;seasonality&#x27;, SeasonalityFeaturesTransformer()),\n",
       "                (&#x27;trend&#x27;, TrendTransformer()),\n",
       "                (&#x27;autocorrelation&#x27;, AutocorrelationTransformer())])</pre><b>In a Jupyter environment, please rerun this cell to show the HTML representation or trust the notebook. <br />On GitHub, the HTML representation is unable to render, please try loading this page with nbviewer.org.</b></div><div class=\"sk-container\" hidden><div class=\"sk-item sk-dashed-wrapped\"><div class=\"sk-label-container\"><div class=\"sk-label sk-toggleable\"><input class=\"sk-toggleable__control sk-hidden--visually\" id=\"sk-estimator-id-1\" type=\"checkbox\" ><label for=\"sk-estimator-id-1\" class=\"sk-toggleable__label sk-toggleable__label-arrow\">Pipeline</label><div class=\"sk-toggleable__content\"><pre>Pipeline(steps=[(&#x27;outlier&#x27;, OutlierTransformer()),\n",
       "                (&#x27;interpolation&#x27;, InterpolationTransformer()),\n",
       "                (&#x27;seasonality&#x27;, SeasonalityFeaturesTransformer()),\n",
       "                (&#x27;trend&#x27;, TrendTransformer()),\n",
       "                (&#x27;autocorrelation&#x27;, AutocorrelationTransformer())])</pre></div></div></div><div class=\"sk-serial\"><div class=\"sk-item\"><div class=\"sk-estimator sk-toggleable\"><input class=\"sk-toggleable__control sk-hidden--visually\" id=\"sk-estimator-id-2\" type=\"checkbox\" ><label for=\"sk-estimator-id-2\" class=\"sk-toggleable__label sk-toggleable__label-arrow\">OutlierTransformer</label><div class=\"sk-toggleable__content\"><pre>OutlierTransformer()</pre></div></div></div><div class=\"sk-item\"><div class=\"sk-estimator sk-toggleable\"><input class=\"sk-toggleable__control sk-hidden--visually\" id=\"sk-estimator-id-3\" type=\"checkbox\" ><label for=\"sk-estimator-id-3\" class=\"sk-toggleable__label sk-toggleable__label-arrow\">InterpolationTransformer</label><div class=\"sk-toggleable__content\"><pre>InterpolationTransformer()</pre></div></div></div><div class=\"sk-item\"><div class=\"sk-estimator sk-toggleable\"><input class=\"sk-toggleable__control sk-hidden--visually\" id=\"sk-estimator-id-4\" type=\"checkbox\" ><label for=\"sk-estimator-id-4\" class=\"sk-toggleable__label sk-toggleable__label-arrow\">SeasonalityFeaturesTransformer</label><div class=\"sk-toggleable__content\"><pre>SeasonalityFeaturesTransformer()</pre></div></div></div><div class=\"sk-item\"><div class=\"sk-estimator sk-toggleable\"><input class=\"sk-toggleable__control sk-hidden--visually\" id=\"sk-estimator-id-5\" type=\"checkbox\" ><label for=\"sk-estimator-id-5\" class=\"sk-toggleable__label sk-toggleable__label-arrow\">TrendTransformer</label><div class=\"sk-toggleable__content\"><pre>TrendTransformer()</pre></div></div></div><div class=\"sk-item\"><div class=\"sk-estimator sk-toggleable\"><input class=\"sk-toggleable__control sk-hidden--visually\" id=\"sk-estimator-id-6\" type=\"checkbox\" ><label for=\"sk-estimator-id-6\" class=\"sk-toggleable__label sk-toggleable__label-arrow\">AutocorrelationTransformer</label><div class=\"sk-toggleable__content\"><pre>AutocorrelationTransformer()</pre></div></div></div></div></div></div></div>"
      ],
      "text/plain": [
       "Pipeline(steps=[('outlier', OutlierTransformer()),\n",
       "                ('interpolation', InterpolationTransformer()),\n",
       "                ('seasonality', SeasonalityFeaturesTransformer()),\n",
       "                ('trend', TrendTransformer()),\n",
       "                ('autocorrelation', AutocorrelationTransformer())])"
      ]
     },
     "execution_count": 5,
     "metadata": {},
     "output_type": "execute_result"
    }
   ],
   "source": [
    "preprocessing_pipeline"
   ]
  },
  {
   "cell_type": "markdown",
   "metadata": {},
   "source": [
    "# Fit the pipeline"
   ]
  },
  {
   "cell_type": "code",
   "execution_count": null,
   "metadata": {},
   "outputs": [],
   "source": [
    "dataset = datasets[15]"
   ]
  },
  {
   "cell_type": "code",
   "execution_count": null,
   "metadata": {},
   "outputs": [
    {
     "data": {
      "image/png": "[encoded data removed]",
      "text/plain": [
       "<Figure size 1500x500 with 1 Axes>"
      ]
     },
     "metadata": {},
     "output_type": "display_data"
    }
   ],
   "source": [
    "dataset.plot(figsize=(15, 5))\n",
    "plt.show()"
   ]
  },
  {
   "cell_type": "code",
   "execution_count": null,
   "metadata": {},
   "outputs": [],
   "source": [
    "pre_dataset: pd.DataFrame = preprocessing_pipeline.fit_transform(dataset)"
   ]
  },
  {
   "cell_type": "code",
   "execution_count": null,
   "metadata": {},
   "outputs": [
    {
     "data": {
      "text/html": [
       "<div>\n",
       "<style scoped>\n",
       "    .dataframe tbody tr th:only-of-type {\n",
       "        vertical-align: middle;\n",
       "    }\n",
       "\n",
       "    .dataframe tbody tr th {\n",
       "        vertical-align: top;\n",
       "    }\n",
       "\n",
       "    .dataframe thead th {\n",
       "        text-align: right;\n",
       "    }\n",
       "</style>\n",
       "<table border=\"1\" class=\"dataframe\">\n",
       "  <thead>\n",
       "    <tr style=\"text-align: right;\">\n",
       "      <th></th>\n",
       "      <th>value</th>\n",
       "      <th>seasonality_sin_0</th>\n",
       "      <th>seasonality_sin_1</th>\n",
       "      <th>seasonality_sin_2</th>\n",
       "      <th>seasonality_sin_3</th>\n",
       "      <th>seasonality_sin_4</th>\n",
       "      <th>seasonality_cos_0</th>\n",
       "      <th>seasonality_cos_1</th>\n",
       "      <th>seasonality_cos_2</th>\n",
       "      <th>seasonality_cos_3</th>\n",
       "      <th>seasonality_cos_4</th>\n",
       "      <th>trend</th>\n",
       "      <th>lag_1</th>\n",
       "      <th>lag_5</th>\n",
       "      <th>lag_9</th>\n",
       "    </tr>\n",
       "    <tr>\n",
       "      <th>timestamp</th>\n",
       "      <th></th>\n",
       "      <th></th>\n",
       "      <th></th>\n",
       "      <th></th>\n",
       "      <th></th>\n",
       "      <th></th>\n",
       "      <th></th>\n",
       "      <th></th>\n",
       "      <th></th>\n",
       "      <th></th>\n",
       "      <th></th>\n",
       "      <th></th>\n",
       "      <th></th>\n",
       "      <th></th>\n",
       "      <th></th>\n",
       "    </tr>\n",
       "  </thead>\n",
       "  <tbody>\n",
       "    <tr>\n",
       "      <th>2021-07-01 00:00:00</th>\n",
       "      <td>0.459726</td>\n",
       "      <td>-0.918569</td>\n",
       "      <td>-0.744960</td>\n",
       "      <td>0.284135</td>\n",
       "      <td>0.222812</td>\n",
       "      <td>0.878655</td>\n",
       "      <td>-0.395261</td>\n",
       "      <td>-0.667109</td>\n",
       "      <td>0.958784</td>\n",
       "      <td>0.974861</td>\n",
       "      <td>-0.477457</td>\n",
       "      <td>-0.178934</td>\n",
       "      <td>0.459726</td>\n",
       "      <td>0.459726</td>\n",
       "      <td>0.459726</td>\n",
       "    </tr>\n",
       "    <tr>\n",
       "      <th>2021-07-01 06:00:00</th>\n",
       "      <td>0.495199</td>\n",
       "      <td>0.484312</td>\n",
       "      <td>-0.948626</td>\n",
       "      <td>0.892999</td>\n",
       "      <td>0.998350</td>\n",
       "      <td>-0.808446</td>\n",
       "      <td>-0.874896</td>\n",
       "      <td>0.316399</td>\n",
       "      <td>0.450059</td>\n",
       "      <td>0.057423</td>\n",
       "      <td>0.588571</td>\n",
       "      <td>-0.178934</td>\n",
       "      <td>0.459726</td>\n",
       "      <td>0.459726</td>\n",
       "      <td>0.459726</td>\n",
       "    </tr>\n",
       "    <tr>\n",
       "      <th>2021-07-01 12:00:00</th>\n",
       "      <td>0.530672</td>\n",
       "      <td>0.174696</td>\n",
       "      <td>-0.195349</td>\n",
       "      <td>0.939705</td>\n",
       "      <td>-0.736945</td>\n",
       "      <td>0.724270</td>\n",
       "      <td>-0.984623</td>\n",
       "      <td>0.980734</td>\n",
       "      <td>-0.341987</td>\n",
       "      <td>-0.675953</td>\n",
       "      <td>-0.689517</td>\n",
       "      <td>-0.178934</td>\n",
       "      <td>0.495199</td>\n",
       "      <td>0.459726</td>\n",
       "      <td>0.459726</td>\n",
       "    </tr>\n",
       "    <tr>\n",
       "      <th>2021-07-01 18:00:00</th>\n",
       "      <td>0.448953</td>\n",
       "      <td>0.962474</td>\n",
       "      <td>0.754990</td>\n",
       "      <td>0.999995</td>\n",
       "      <td>-0.854408</td>\n",
       "      <td>-0.627582</td>\n",
       "      <td>0.271374</td>\n",
       "      <td>0.655736</td>\n",
       "      <td>0.003255</td>\n",
       "      <td>0.519603</td>\n",
       "      <td>0.778551</td>\n",
       "      <td>-0.178934</td>\n",
       "      <td>0.530672</td>\n",
       "      <td>0.459726</td>\n",
       "      <td>0.459726</td>\n",
       "    </tr>\n",
       "    <tr>\n",
       "      <th>2021-07-02 00:00:00</th>\n",
       "      <td>-0.439928</td>\n",
       "      <td>-0.365383</td>\n",
       "      <td>0.943720</td>\n",
       "      <td>0.687609</td>\n",
       "      <td>0.261169</td>\n",
       "      <td>0.520052</td>\n",
       "      <td>0.930857</td>\n",
       "      <td>-0.330747</td>\n",
       "      <td>-0.726082</td>\n",
       "      <td>0.965293</td>\n",
       "      <td>-0.854135</td>\n",
       "      <td>-0.178934</td>\n",
       "      <td>0.448953</td>\n",
       "      <td>0.459726</td>\n",
       "      <td>0.459726</td>\n",
       "    </tr>\n",
       "    <tr>\n",
       "      <th>2021-07-02 06:00:00</th>\n",
       "      <td>-0.472273</td>\n",
       "      <td>-0.044051</td>\n",
       "      <td>0.180455</td>\n",
       "      <td>-0.057639</td>\n",
       "      <td>0.999839</td>\n",
       "      <td>-0.403538</td>\n",
       "      <td>0.999029</td>\n",
       "      <td>-0.983583</td>\n",
       "      <td>-0.998337</td>\n",
       "      <td>0.017919</td>\n",
       "      <td>0.914963</td>\n",
       "      <td>-0.178934</td>\n",
       "      <td>-0.439928</td>\n",
       "      <td>0.459726</td>\n",
       "      <td>0.459726</td>\n",
       "    </tr>\n",
       "    <tr>\n",
       "      <th>2021-07-02 12:00:00</th>\n",
       "      <td>-0.483305</td>\n",
       "      <td>-0.989752</td>\n",
       "      <td>-0.764846</td>\n",
       "      <td>-0.766602</td>\n",
       "      <td>-0.763085</td>\n",
       "      <td>0.280052</td>\n",
       "      <td>-0.142799</td>\n",
       "      <td>-0.644213</td>\n",
       "      <td>-0.642123</td>\n",
       "      <td>-0.646298</td>\n",
       "      <td>-0.959985</td>\n",
       "      <td>-0.178934</td>\n",
       "      <td>-0.472273</td>\n",
       "      <td>0.495199</td>\n",
       "      <td>0.459726</td>\n",
       "    </tr>\n",
       "    <tr>\n",
       "      <th>2021-07-02 18:00:00</th>\n",
       "      <td>-0.445376</td>\n",
       "      <td>0.240143</td>\n",
       "      <td>-0.938596</td>\n",
       "      <td>-0.992976</td>\n",
       "      <td>-0.833203</td>\n",
       "      <td>-0.151729</td>\n",
       "      <td>-0.970738</td>\n",
       "      <td>0.345019</td>\n",
       "      <td>0.118319</td>\n",
       "      <td>0.552967</td>\n",
       "      <td>0.988422</td>\n",
       "      <td>-0.178934</td>\n",
       "      <td>-0.483305</td>\n",
       "      <td>0.530672</td>\n",
       "      <td>0.459726</td>\n",
       "    </tr>\n",
       "    <tr>\n",
       "      <th>2021-07-03 00:00:00</th>\n",
       "      <td>-0.985939</td>\n",
       "      <td>-0.087355</td>\n",
       "      <td>-0.165520</td>\n",
       "      <td>-0.594254</td>\n",
       "      <td>0.299117</td>\n",
       "      <td>0.020784</td>\n",
       "      <td>-0.996177</td>\n",
       "      <td>0.986206</td>\n",
       "      <td>0.804277</td>\n",
       "      <td>0.954216</td>\n",
       "      <td>-0.999784</td>\n",
       "      <td>-0.178934</td>\n",
       "      <td>-0.445376</td>\n",
       "      <td>0.448953</td>\n",
       "      <td>0.459726</td>\n",
       "    </tr>\n",
       "    <tr>\n",
       "      <th>2021-07-03 06:00:00</th>\n",
       "      <td>-0.897069</td>\n",
       "      <td>0.999931</td>\n",
       "      <td>0.774527</td>\n",
       "      <td>-0.835270</td>\n",
       "      <td>0.999766</td>\n",
       "      <td>0.110520</td>\n",
       "      <td>0.011757</td>\n",
       "      <td>0.632541</td>\n",
       "      <td>0.549840</td>\n",
       "      <td>-0.021613</td>\n",
       "      <td>0.993874</td>\n",
       "      <td>-0.178934</td>\n",
       "      <td>-0.985939</td>\n",
       "      <td>-0.439928</td>\n",
       "      <td>0.459726</td>\n",
       "    </tr>\n",
       "  </tbody>\n",
       "</table>\n",
       "</div>"
      ],
      "text/plain": [
       "                        value  seasonality_sin_0  seasonality_sin_1  \\\n",
       "timestamp                                                             \n",
       "2021-07-01 00:00:00  0.459726          -0.918569          -0.744960   \n",
       "2021-07-01 06:00:00  0.495199           0.484312          -0.948626   \n",
       "2021-07-01 12:00:00  0.530672           0.174696          -0.195349   \n",
       "2021-07-01 18:00:00  0.448953           0.962474           0.754990   \n",
       "2021-07-02 00:00:00 -0.439928          -0.365383           0.943720   \n",
       "2021-07-02 06:00:00 -0.472273          -0.044051           0.180455   \n",
       "2021-07-02 12:00:00 -0.483305          -0.989752          -0.764846   \n",
       "2021-07-02 18:00:00 -0.445376           0.240143          -0.938596   \n",
       "2021-07-03 00:00:00 -0.985939          -0.087355          -0.165520   \n",
       "2021-07-03 06:00:00 -0.897069           0.999931           0.774527   \n",
       "\n",
       "                     seasonality_sin_2  seasonality_sin_3  seasonality_sin_4  \\\n",
       "timestamp                                                                      \n",
       "2021-07-01 00:00:00           0.284135           0.222812           0.878655   \n",
       "2021-07-01 06:00:00           0.892999           0.998350          -0.808446   \n",
       "2021-07-01 12:00:00           0.939705          -0.736945           0.724270   \n",
       "2021-07-01 18:00:00           0.999995          -0.854408          -0.627582   \n",
       "2021-07-02 00:00:00           0.687609           0.261169           0.520052   \n",
       "2021-07-02 06:00:00          -0.057639           0.999839          -0.403538   \n",
       "2021-07-02 12:00:00          -0.766602          -0.763085           0.280052   \n",
       "2021-07-02 18:00:00          -0.992976          -0.833203          -0.151729   \n",
       "2021-07-03 00:00:00          -0.594254           0.299117           0.020784   \n",
       "2021-07-03 06:00:00          -0.835270           0.999766           0.110520   \n",
       "\n",
       "                     seasonality_cos_0  seasonality_cos_1  seasonality_cos_2  \\\n",
       "timestamp                                                                      \n",
       "2021-07-01 00:00:00          -0.395261          -0.667109           0.958784   \n",
       "2021-07-01 06:00:00          -0.874896           0.316399           0.450059   \n",
       "2021-07-01 12:00:00          -0.984623           0.980734          -0.341987   \n",
       "2021-07-01 18:00:00           0.271374           0.655736           0.003255   \n",
       "2021-07-02 00:00:00           0.930857          -0.330747          -0.726082   \n",
       "2021-07-02 06:00:00           0.999029          -0.983583          -0.998337   \n",
       "2021-07-02 12:00:00          -0.142799          -0.644213          -0.642123   \n",
       "2021-07-02 18:00:00          -0.970738           0.345019           0.118319   \n",
       "2021-07-03 00:00:00          -0.996177           0.986206           0.804277   \n",
       "2021-07-03 06:00:00           0.011757           0.632541           0.549840   \n",
       "\n",
       "                     seasonality_cos_3  seasonality_cos_4     trend     lag_1  \\\n",
       "timestamp                                                                       \n",
       "2021-07-01 00:00:00           0.974861          -0.477457 -0.178934  0.459726   \n",
       "2021-07-01 06:00:00           0.057423           0.588571 -0.178934  0.459726   \n",
       "2021-07-01 12:00:00          -0.675953          -0.689517 -0.178934  0.495199   \n",
       "2021-07-01 18:00:00           0.519603           0.778551 -0.178934  0.530672   \n",
       "2021-07-02 00:00:00           0.965293          -0.854135 -0.178934  0.448953   \n",
       "2021-07-02 06:00:00           0.017919           0.914963 -0.178934 -0.439928   \n",
       "2021-07-02 12:00:00          -0.646298          -0.959985 -0.178934 -0.472273   \n",
       "2021-07-02 18:00:00           0.552967           0.988422 -0.178934 -0.483305   \n",
       "2021-07-03 00:00:00           0.954216          -0.999784 -0.178934 -0.445376   \n",
       "2021-07-03 06:00:00          -0.021613           0.993874 -0.178934 -0.985939   \n",
       "\n",
       "                        lag_5     lag_9  \n",
       "timestamp                                \n",
       "2021-07-01 00:00:00  0.459726  0.459726  \n",
       "2021-07-01 06:00:00  0.459726  0.459726  \n",
       "2021-07-01 12:00:00  0.459726  0.459726  \n",
       "2021-07-01 18:00:00  0.459726  0.459726  \n",
       "2021-07-02 00:00:00  0.459726  0.459726  \n",
       "2021-07-02 06:00:00  0.459726  0.459726  \n",
       "2021-07-02 12:00:00  0.495199  0.459726  \n",
       "2021-07-02 18:00:00  0.530672  0.459726  \n",
       "2021-07-03 00:00:00  0.448953  0.459726  \n",
       "2021-07-03 06:00:00 -0.439928  0.459726  "
      ]
     },
     "execution_count": 9,
     "metadata": {},
     "output_type": "execute_result"
    }
   ],
   "source": [
    "pre_dataset.head(10)"
   ]
  },
  {
   "cell_type": "markdown",
   "metadata": {},
   "source": [
    "# Experiment with different Models\n"
   ]
  },
  {
   "cell_type": "code",
   "execution_count": null,
   "metadata": {},
   "outputs": [],
   "source": [
    "X = pre_dataset.drop(columns=[\"value\"])\n",
    "y = pre_dataset[\"value\"]"
   ]
  },
  {
   "cell_type": "markdown",
   "metadata": {},
   "source": [
    "## Linear Regression"
   ]
  },
  {
   "cell_type": "code",
   "execution_count": null,
   "metadata": {},
   "outputs": [],
   "source": [
    "lr = LinearRegression()\n",
    "\n",
    "lr_scores = pd.Series(\n",
    "    -cross_val_score(\n",
    "        lr,\n",
    "        X,\n",
    "        y,\n",
    "        scoring=\"neg_mean_squared_error\",\n",
    "        cv=TimeSeriesSplit(n_splits=10),\n",
    "    )\n",
    ")"
   ]
  },
  {
   "cell_type": "code",
   "execution_count": null,
   "metadata": {},
   "outputs": [
    {
     "data": {
      "text/plain": [
       "count    10.000000\n",
       "mean      0.073487\n",
       "std       0.057644\n",
       "min       0.016469\n",
       "25%       0.028704\n",
       "50%       0.072945\n",
       "75%       0.089712\n",
       "max       0.210151\n",
       "dtype: float64"
      ]
     },
     "execution_count": 13,
     "metadata": {},
     "output_type": "execute_result"
    }
   ],
   "source": [
    "lr_scores.describe()"
   ]
  },
  {
   "cell_type": "markdown",
   "metadata": {},
   "source": [
    "## Logistic Regression"
   ]
  },
  {
   "cell_type": "code",
   "execution_count": null,
   "metadata": {},
   "outputs": [],
   "source": [
    "# Creating the polynomial features\n",
    "poly = PolynomialFeatures(degree=2)\n",
    "X_poly = poly.fit_transform(X)\n",
    "\n",
    "polyr = LinearRegression()\n",
    "\n",
    "polyr_scores = pd.Series(\n",
    "    -cross_val_score(\n",
    "        polyr,\n",
    "        X_poly,\n",
    "        y,\n",
    "        scoring=\"neg_mean_squared_error\",\n",
    "        cv=TimeSeriesSplit(n_splits=10),\n",
    "    )\n",
    ")"
   ]
  },
  {
   "cell_type": "code",
   "execution_count": null,
   "metadata": {},
   "outputs": [
    {
     "data": {
      "text/plain": [
       "count    10.000000\n",
       "mean      0.224336\n",
       "std       0.378495\n",
       "min       0.018957\n",
       "25%       0.051562\n",
       "50%       0.095257\n",
       "75%       0.175429\n",
       "max       1.282170\n",
       "dtype: float64"
      ]
     },
     "execution_count": 14,
     "metadata": {},
     "output_type": "execute_result"
    }
   ],
   "source": [
    "polyr_scores.describe()"
   ]
  },
  {
   "cell_type": "markdown",
   "metadata": {},
   "source": [
    "## Support Vector Machine"
   ]
  },
  {
   "cell_type": "code",
   "execution_count": null,
   "metadata": {},
   "outputs": [],
   "source": [
    "svr = SVR()\n",
    "\n",
    "svr_scores = pd.Series(\n",
    "    -cross_val_score(\n",
    "        svr,\n",
    "        X,\n",
    "        y,\n",
    "        scoring=\"neg_mean_squared_error\",\n",
    "        cv=TimeSeriesSplit(n_splits=10),\n",
    "    )\n",
    ")"
   ]
  },
  {
   "cell_type": "code",
   "execution_count": null,
   "metadata": {},
   "outputs": [
    {
     "data": {
      "text/plain": [
       "count    10.000000\n",
       "mean      0.087449\n",
       "std       0.081200\n",
       "min       0.017956\n",
       "25%       0.035500\n",
       "50%       0.071560\n",
       "75%       0.100421\n",
       "max       0.298458\n",
       "dtype: float64"
      ]
     },
     "execution_count": 16,
     "metadata": {},
     "output_type": "execute_result"
    }
   ],
   "source": [
    "svr_scores.describe()"
   ]
  },
  {
   "cell_type": "markdown",
   "metadata": {},
   "source": [
    "## Decision Tree"
   ]
  },
  {
   "cell_type": "code",
   "execution_count": null,
   "metadata": {},
   "outputs": [],
   "source": [
    "dt = DecisionTreeRegressor()\n",
    "\n",
    "dt_scores = pd.Series(\n",
    "    -cross_val_score(\n",
    "        dt,\n",
    "        X,\n",
    "        y,\n",
    "        scoring=\"neg_mean_squared_error\",\n",
    "        cv=TimeSeriesSplit(n_splits=10),\n",
    "    )\n",
    ")"
   ]
  },
  {
   "cell_type": "code",
   "execution_count": null,
   "metadata": {},
   "outputs": [
    {
     "data": {
      "text/plain": [
       "count    10.000000\n",
       "mean      0.156544\n",
       "std       0.240232\n",
       "min       0.021869\n",
       "25%       0.060482\n",
       "50%       0.092163\n",
       "75%       0.117699\n",
       "max       0.832887\n",
       "dtype: float64"
      ]
     },
     "execution_count": 18,
     "metadata": {},
     "output_type": "execute_result"
    }
   ],
   "source": [
    "dt_scores.describe()"
   ]
  },
  {
   "cell_type": "markdown",
   "metadata": {},
   "source": [
    "## Random Forest"
   ]
  },
  {
   "cell_type": "code",
   "execution_count": null,
   "metadata": {},
   "outputs": [],
   "source": [
    "rf = RandomForestRegressor()\n",
    "\n",
    "rf_scores = pd.Series(\n",
    "    -cross_val_score(\n",
    "        rf,\n",
    "        X,\n",
    "        y,\n",
    "        scoring=\"neg_mean_squared_error\",\n",
    "        cv=TimeSeriesSplit(n_splits=10),\n",
    "    )\n",
    ")"
   ]
  },
  {
   "cell_type": "code",
   "execution_count": null,
   "metadata": {},
   "outputs": [
    {
     "data": {
      "text/plain": [
       "count    10.000000\n",
       "mean      0.055821\n",
       "std       0.044172\n",
       "min       0.010147\n",
       "25%       0.021118\n",
       "50%       0.051528\n",
       "75%       0.066594\n",
       "max       0.160224\n",
       "dtype: float64"
      ]
     },
     "execution_count": 20,
     "metadata": {},
     "output_type": "execute_result"
    }
   ],
   "source": [
    "rf_scores.describe()"
   ]
  },
  {
   "cell_type": "markdown",
   "metadata": {},
   "source": [
    "## Neural Networks MLPRegressor"
   ]
  },
  {
   "cell_type": "code",
   "execution_count": null,
   "metadata": {},
   "outputs": [],
   "source": [
    "nn = MLPRegressor()\n",
    "\n",
    "nn_scores = pd.Series(\n",
    "    -cross_val_score(\n",
    "        nn,\n",
    "        X,\n",
    "        y,\n",
    "        scoring=\"neg_mean_squared_error\",\n",
    "        cv=TimeSeriesSplit(n_splits=10),\n",
    "    )\n",
    ")"
   ]
  },
  {
   "cell_type": "code",
   "execution_count": null,
   "metadata": {},
   "outputs": [
    {
     "data": {
      "text/plain": [
       "count    10.000000\n",
       "mean      0.092710\n",
       "std       0.082326\n",
       "min       0.029185\n",
       "25%       0.042522\n",
       "50%       0.075265\n",
       "75%       0.094546\n",
       "max       0.311422\n",
       "dtype: float64"
      ]
     },
     "execution_count": 22,
     "metadata": {},
     "output_type": "execute_result"
    }
   ],
   "source": [
    "nn_scores.describe()"
   ]
  },
  {
   "cell_type": "markdown",
   "metadata": {},
   "source": [
    "## XGBoost Regressor"
   ]
  },
  {
   "cell_type": "code",
   "execution_count": null,
   "metadata": {},
   "outputs": [],
   "source": [
    "xgb = XGBRegressor()\n",
    "xgb_scores = pd.Series(\n",
    "    -cross_val_score(\n",
    "        xgb,\n",
    "        X,\n",
    "        y,\n",
    "        scoring=\"neg_mean_squared_error\",\n",
    "        cv=TimeSeriesSplit(n_splits=10),\n",
    "    )\n",
    ")"
   ]
  },
  {
   "cell_type": "code",
   "execution_count": null,
   "metadata": {},
   "outputs": [
    {
     "data": {
      "text/plain": [
       "count    10.000000\n",
       "mean      0.091895\n",
       "std       0.110544\n",
       "min       0.012404\n",
       "25%       0.035708\n",
       "50%       0.065537\n",
       "75%       0.093156\n",
       "max       0.394128\n",
       "dtype: float64"
      ]
     },
     "execution_count": 24,
     "metadata": {},
     "output_type": "execute_result"
    }
   ],
   "source": [
    "xgb_scores.describe()"
   ]
  },
  {
   "cell_type": "markdown",
   "metadata": {},
   "source": [
    "## LSTM"
   ]
  },
  {
   "cell_type": "code",
   "execution_count": null,
   "metadata": {},
   "outputs": [],
   "source": [
    "X_lstm = X.to_numpy().reshape((X.shape[0], 1, X.shape[1]))"
   ]
  },
  {
   "cell_type": "code",
   "execution_count": null,
   "metadata": {},
   "outputs": [
    {
     "name": "stdout",
     "output_type": "stream",
     "text": [
      "WARNING:tensorflow:Layer lstm will not use cuDNN kernels since it doesn't meet the criteria. It will use a generic GPU kernel as fallback when running on GPU.\n"
     ]
    },
    {
     "name": "stderr",
     "output_type": "stream",
     "text": [
      "2023-11-12 23:44:46.537688: I tensorflow/compiler/xla/stream_executor/cuda/cuda_gpu_executor.cc:880] could not open file to read NUMA node: /sys/bus/pci/devices/0000:01:00.0/numa_node\n",
      "Your kernel may have been built without NUMA support.\n",
      "2023-11-12 23:44:46.588416: I tensorflow/compiler/xla/stream_executor/cuda/cuda_gpu_executor.cc:880] could not open file to read NUMA node: /sys/bus/pci/devices/0000:01:00.0/numa_node\n",
      "Your kernel may have been built without NUMA support.\n",
      "2023-11-12 23:44:46.588521: I tensorflow/compiler/xla/stream_executor/cuda/cuda_gpu_executor.cc:880] could not open file to read NUMA node: /sys/bus/pci/devices/0000:01:00.0/numa_node\n",
      "Your kernel may have been built without NUMA support.\n",
      "2023-11-12 23:44:46.591838: I tensorflow/compiler/xla/stream_executor/cuda/cuda_gpu_executor.cc:880] could not open file to read NUMA node: /sys/bus/pci/devices/0000:01:00.0/numa_node\n",
      "Your kernel may have been built without NUMA support.\n",
      "2023-11-12 23:44:46.591910: I tensorflow/compiler/xla/stream_executor/cuda/cuda_gpu_executor.cc:880] could not open file to read NUMA node: /sys/bus/pci/devices/0000:01:00.0/numa_node\n",
      "Your kernel may have been built without NUMA support.\n",
      "2023-11-12 23:44:46.592006: I tensorflow/compiler/xla/stream_executor/cuda/cuda_gpu_executor.cc:880] could not open file to read NUMA node: /sys/bus/pci/devices/0000:01:00.0/numa_node\n",
      "Your kernel may have been built without NUMA support.\n",
      "2023-11-12 23:44:49.002413: I tensorflow/compiler/xla/stream_executor/cuda/cuda_gpu_executor.cc:880] could not open file to read NUMA node: /sys/bus/pci/devices/0000:01:00.0/numa_node\n",
      "Your kernel may have been built without NUMA support.\n",
      "2023-11-12 23:44:49.002690: I tensorflow/compiler/xla/stream_executor/cuda/cuda_gpu_executor.cc:880] could not open file to read NUMA node: /sys/bus/pci/devices/0000:01:00.0/numa_node\n",
      "Your kernel may have been built without NUMA support.\n",
      "2023-11-12 23:44:49.002704: I tensorflow/core/common_runtime/gpu/gpu_device.cc:1977] Could not identify NUMA node of platform GPU id 0, defaulting to 0.  Your kernel may not have been built with NUMA support.\n",
      "2023-11-12 23:44:49.002774: I tensorflow/compiler/xla/stream_executor/cuda/cuda_gpu_executor.cc:880] could not open file to read NUMA node: /sys/bus/pci/devices/0000:01:00.0/numa_node\n",
      "Your kernel may have been built without NUMA support.\n",
      "2023-11-12 23:44:49.003395: I tensorflow/core/common_runtime/gpu/gpu_device.cc:1886] Created device /job:localhost/replica:0/task:0/device:GPU:0 with 1175 MB memory:  -> device: 0, name: NVIDIA GeForce MX450, pci bus id: 0000:01:00.0, compute capability: 7.5\n",
      "2023-11-12 23:44:49.594758: I tensorflow/tsl/platform/default/subprocess.cc:304] Start cannot spawn child process: No such file or directory\n",
      "2023-11-12 23:44:57.892842: I tensorflow/compiler/xla/service/service.cc:168] XLA service 0x7f25b401e6e0 initialized for platform CUDA (this does not guarantee that XLA will be used). Devices:\n",
      "2023-11-12 23:44:57.892920: I tensorflow/compiler/xla/service/service.cc:176]   StreamExecutor device (0): NVIDIA GeForce MX450, Compute Capability 7.5\n",
      "2023-11-12 23:44:57.923519: I tensorflow/compiler/mlir/tensorflow/utils/dump_mlir_util.cc:269] disabling MLIR crash reproducer, set env var `MLIR_CRASH_REPRODUCER_DIRECTORY` to enable.\n",
      "2023-11-12 23:44:58.492902: I tensorflow/compiler/xla/stream_executor/cuda/cuda_dnn.cc:442] Loaded cuDNN version 8700\n",
      "2023-11-12 23:44:58.689098: I ./tensorflow/compiler/jit/device_compiler.h:186] Compiled cluster using XLA!  This line is logged at most once for the lifetime of the process.\n"
     ]
    },
    {
     "name": "stdout",
     "output_type": "stream",
     "text": [
      "WARNING:tensorflow:Layer lstm_1 will not use cuDNN kernels since it doesn't meet the criteria. It will use a generic GPU kernel as fallback when running on GPU.\n",
      "WARNING:tensorflow:Layer lstm_2 will not use cuDNN kernels since it doesn't meet the criteria. It will use a generic GPU kernel as fallback when running on GPU.\n",
      "WARNING:tensorflow:Layer lstm_3 will not use cuDNN kernels since it doesn't meet the criteria. It will use a generic GPU kernel as fallback when running on GPU.\n",
      "WARNING:tensorflow:Layer lstm_4 will not use cuDNN kernels since it doesn't meet the criteria. It will use a generic GPU kernel as fallback when running on GPU.\n",
      "WARNING:tensorflow:Layer lstm_5 will not use cuDNN kernels since it doesn't meet the criteria. It will use a generic GPU kernel as fallback when running on GPU.\n",
      "WARNING:tensorflow:Layer lstm_6 will not use cuDNN kernels since it doesn't meet the criteria. It will use a generic GPU kernel as fallback when running on GPU.\n",
      "WARNING:tensorflow:Layer lstm_7 will not use cuDNN kernels since it doesn't meet the criteria. It will use a generic GPU kernel as fallback when running on GPU.\n",
      "WARNING:tensorflow:Layer lstm_8 will not use cuDNN kernels since it doesn't meet the criteria. It will use a generic GPU kernel as fallback when running on GPU.\n",
      "WARNING:tensorflow:Layer lstm_9 will not use cuDNN kernels since it doesn't meet the criteria. It will use a generic GPU kernel as fallback when running on GPU.\n"
     ]
    }
   ],
   "source": [
    "# Define a function to create model\n",
    "def create_model():\n",
    "    # define model\n",
    "    model = Sequential()\n",
    "    model.add(LSTM(50, activation=\"relu\", input_shape=(1, X.shape[1])))\n",
    "    model.add(Dense(1))\n",
    "    model.compile(optimizer=\"adam\", loss=\"mse\")\n",
    "    return model\n",
    "\n",
    "\n",
    "# Create a KerasClassifier instance\n",
    "model = KerasRegressor(build_fn=create_model, epochs=100, batch_size=10, verbose=0)\n",
    "\n",
    "# Now you can use cross_val_score\n",
    "lstm_scores = pd.Series(\n",
    "    -cross_val_score(\n",
    "        model,\n",
    "        X_lstm,\n",
    "        y,\n",
    "        scoring=\"neg_mean_squared_error\",\n",
    "        cv=TimeSeriesSplit(n_splits=10),\n",
    "    )\n",
    ")"
   ]
  },
  {
   "cell_type": "markdown",
   "metadata": {},
   "source": [
    "# Compare the models"
   ]
  },
  {
   "cell_type": "code",
   "execution_count": null,
   "metadata": {},
   "outputs": [],
   "source": [
    "# Combine all the scores in a single DataFrame\n",
    "scores = pd.DataFrame(\n",
    "    {\n",
    "        \"Linear Regression\": lr_scores.describe(),\n",
    "        \"Polynomial Regression\": polyr_scores.describe(),\n",
    "        \"Support Vector Regression\": svr_scores.describe(),\n",
    "        \"Decision Tree\": dt_scores.describe(),\n",
    "        \"Random Forest\": rf_scores.describe(),\n",
    "        \"Neural Network\": nn_scores.describe(),\n",
    "        \"XGBoost\": xgb_scores.describe(),\n",
    "        \"LSTM\": lstm_scores.describe(),\n",
    "    },\n",
    "    index=lr_scores.describe().index,\n",
    ")"
   ]
  },
  {
   "cell_type": "code",
   "execution_count": null,
   "metadata": {},
   "outputs": [
    {
     "data": {
      "text/html": [
       "<div>\n",
       "<style scoped>\n",
       "    .dataframe tbody tr th:only-of-type {\n",
       "        vertical-align: middle;\n",
       "    }\n",
       "\n",
       "    .dataframe tbody tr th {\n",
       "        vertical-align: top;\n",
       "    }\n",
       "\n",
       "    .dataframe thead th {\n",
       "        text-align: right;\n",
       "    }\n",
       "</style>\n",
       "<table border=\"1\" class=\"dataframe\">\n",
       "  <thead>\n",
       "    <tr style=\"text-align: right;\">\n",
       "      <th></th>\n",
       "      <th>Linear Regression</th>\n",
       "      <th>Polynomial Regression</th>\n",
       "      <th>Support Vector Regression</th>\n",
       "      <th>Decision Tree</th>\n",
       "      <th>Random Forest</th>\n",
       "      <th>Neural Network</th>\n",
       "      <th>XGBoost</th>\n",
       "      <th>LSTM</th>\n",
       "    </tr>\n",
       "  </thead>\n",
       "  <tbody>\n",
       "    <tr>\n",
       "      <th>count</th>\n",
       "      <td>10.000000</td>\n",
       "      <td>10.000000</td>\n",
       "      <td>10.000000</td>\n",
       "      <td>10.000000</td>\n",
       "      <td>10.000000</td>\n",
       "      <td>10.000000</td>\n",
       "      <td>10.000000</td>\n",
       "      <td>10.000000</td>\n",
       "    </tr>\n",
       "    <tr>\n",
       "      <th>mean</th>\n",
       "      <td>0.073487</td>\n",
       "      <td>0.224336</td>\n",
       "      <td>0.087449</td>\n",
       "      <td>0.160443</td>\n",
       "      <td>0.056352</td>\n",
       "      <td>0.086446</td>\n",
       "      <td>0.091895</td>\n",
       "      <td>0.079146</td>\n",
       "    </tr>\n",
       "    <tr>\n",
       "      <th>std</th>\n",
       "      <td>0.057644</td>\n",
       "      <td>0.378495</td>\n",
       "      <td>0.081200</td>\n",
       "      <td>0.235805</td>\n",
       "      <td>0.042656</td>\n",
       "      <td>0.053859</td>\n",
       "      <td>0.110544</td>\n",
       "      <td>0.053896</td>\n",
       "    </tr>\n",
       "    <tr>\n",
       "      <th>min</th>\n",
       "      <td>0.016469</td>\n",
       "      <td>0.018957</td>\n",
       "      <td>0.017956</td>\n",
       "      <td>0.022190</td>\n",
       "      <td>0.010172</td>\n",
       "      <td>0.027267</td>\n",
       "      <td>0.012404</td>\n",
       "      <td>0.026081</td>\n",
       "    </tr>\n",
       "    <tr>\n",
       "      <th>25%</th>\n",
       "      <td>0.028704</td>\n",
       "      <td>0.051562</td>\n",
       "      <td>0.035500</td>\n",
       "      <td>0.061304</td>\n",
       "      <td>0.021586</td>\n",
       "      <td>0.045348</td>\n",
       "      <td>0.035708</td>\n",
       "      <td>0.041970</td>\n",
       "    </tr>\n",
       "    <tr>\n",
       "      <th>50%</th>\n",
       "      <td>0.072945</td>\n",
       "      <td>0.095257</td>\n",
       "      <td>0.071560</td>\n",
       "      <td>0.103812</td>\n",
       "      <td>0.052834</td>\n",
       "      <td>0.087763</td>\n",
       "      <td>0.065537</td>\n",
       "      <td>0.076785</td>\n",
       "    </tr>\n",
       "    <tr>\n",
       "      <th>75%</th>\n",
       "      <td>0.089712</td>\n",
       "      <td>0.175429</td>\n",
       "      <td>0.100421</td>\n",
       "      <td>0.123197</td>\n",
       "      <td>0.069803</td>\n",
       "      <td>0.103395</td>\n",
       "      <td>0.093156</td>\n",
       "      <td>0.089504</td>\n",
       "    </tr>\n",
       "    <tr>\n",
       "      <th>max</th>\n",
       "      <td>0.210151</td>\n",
       "      <td>1.282170</td>\n",
       "      <td>0.298458</td>\n",
       "      <td>0.822482</td>\n",
       "      <td>0.153144</td>\n",
       "      <td>0.208156</td>\n",
       "      <td>0.394128</td>\n",
       "      <td>0.214533</td>\n",
       "    </tr>\n",
       "  </tbody>\n",
       "</table>\n",
       "</div>"
      ],
      "text/plain": [
       "       Linear Regression  Polynomial Regression  Support Vector Regression  \\\n",
       "count          10.000000              10.000000                  10.000000   \n",
       "mean            0.073487               0.224336                   0.087449   \n",
       "std             0.057644               0.378495                   0.081200   \n",
       "min             0.016469               0.018957                   0.017956   \n",
       "25%             0.028704               0.051562                   0.035500   \n",
       "50%             0.072945               0.095257                   0.071560   \n",
       "75%             0.089712               0.175429                   0.100421   \n",
       "max             0.210151               1.282170                   0.298458   \n",
       "\n",
       "       Decision Tree  Random Forest  Neural Network    XGBoost       LSTM  \n",
       "count      10.000000      10.000000       10.000000  10.000000  10.000000  \n",
       "mean        0.160443       0.056352        0.086446   0.091895   0.079146  \n",
       "std         0.235805       0.042656        0.053859   0.110544   0.053896  \n",
       "min         0.022190       0.010172        0.027267   0.012404   0.026081  \n",
       "25%         0.061304       0.021586        0.045348   0.035708   0.041970  \n",
       "50%         0.103812       0.052834        0.087763   0.065537   0.076785  \n",
       "75%         0.123197       0.069803        0.103395   0.093156   0.089504  \n",
       "max         0.822482       0.153144        0.208156   0.394128   0.214533  "
      ]
     },
     "execution_count": 28,
     "metadata": {},
     "output_type": "execute_result"
    }
   ],
   "source": [
    "scores"
   ]
  },
  {
   "cell_type": "markdown",
   "metadata": {},
   "source": [
    "It seems like that the most promising models are linear regression, random forest, Neural Network, LSTM, and XGBoost.\n",
    "But Linear Regression is the simplest model and fastest to train. So, we will use Linear Regression as our final model."
   ]
  },
  {
   "cell_type": "markdown",
   "metadata": {},
   "source": [
    "# Creating Models"
   ]
  },
  {
   "cell_type": "code",
   "execution_count": null,
   "metadata": {},
   "outputs": [],
   "source": [
    "datasets_names = [path.split(\"/\")[-1].split(\".\")[0] for path in datasets_paths]"
   ]
  },
  {
   "cell_type": "code",
   "execution_count": null,
   "metadata": {},
   "outputs": [
    {
     "name": "stdout",
     "output_type": "stream",
     "text": [
      "0\n",
      "1\n",
      "2\n",
      "3\n",
      "4\n",
      "5\n",
      "6\n",
      "7\n",
      "8\n",
      "9\n",
      "10\n",
      "11\n",
      "12\n",
      "13\n",
      "14\n",
      "15\n",
      "16\n",
      "17\n",
      "18\n",
      "19\n",
      "20\n",
      "21\n",
      "22\n",
      "23\n",
      "24\n",
      "25\n",
      "26\n",
      "27\n",
      "28\n",
      "29\n",
      "30\n",
      "31\n",
      "32\n",
      "33\n",
      "34\n",
      "35\n",
      "36\n",
      "37\n",
      "38\n",
      "39\n",
      "40\n",
      "41\n",
      "42\n",
      "43\n",
      "44\n",
      "45\n",
      "46\n",
      "47\n",
      "48\n",
      "49\n",
      "50\n",
      "51\n",
      "52\n",
      "53\n",
      "54\n",
      "55\n",
      "56\n",
      "57\n",
      "58\n",
      "59\n",
      "60\n",
      "61\n",
      "62\n",
      "63\n",
      "64\n",
      "65\n",
      "66\n",
      "67\n",
      "68\n",
      "69\n",
      "70\n",
      "71\n",
      "72\n",
      "73\n",
      "74\n",
      "75\n",
      "76\n",
      "77\n",
      "78\n",
      "79\n",
      "80\n",
      "81\n",
      "82\n",
      "83\n",
      "84\n",
      "85\n",
      "86\n",
      "87\n",
      "88\n",
      "89\n",
      "90\n",
      "91\n",
      "92\n",
      "93\n",
      "94\n",
      "95\n"
     ]
    }
   ],
   "source": [
    "for (i, dataset), dataset_name in zip(enumerate(datasets), datasets_names):\n",
    "    pre_dataset = preprocessing_pipeline.fit_transform(dataset)\n",
    "\n",
    "    X = pre_dataset.drop(columns=[\"value\"])\n",
    "    y = pre_dataset[\"value\"]\n",
    "\n",
    "    lr = LinearRegression()\n",
    "    lr.fit(X, y)\n",
    "    with open(f\"./pipelines/models/{dataset_name}.pkl\", \"wb\") as file:\n",
    "        pickle.dump(lr, file)"
   ]
  }
 ],
 "metadata": {
  "kernelspec": {
   "display_name": "aienv",
   "language": "python",
   "name": "python3"
  },
  "language_info": {
   "codemirror_mode": {
    "name": "ipython",
    "version": 3
   },
   "file_extension": ".py",
   "mimetype": "text/x-python",
   "name": "python",
   "nbconvert_exporter": "python",
   "pygments_lexer": "ipython3",
   "version": "3.10.13"
  }
 },
 "nbformat": 4,
 "nbformat_minor": 2
}
