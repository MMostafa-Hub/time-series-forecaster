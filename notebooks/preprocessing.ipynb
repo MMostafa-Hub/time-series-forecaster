{
 "cells": [
  {
   "cell_type": "markdown",
   "metadata": {},
   "source": [
    "# Import Libraries"
   ]
  },
  {
   "cell_type": "code",
   "execution_count": 69,
   "metadata": {},
   "outputs": [],
   "source": [
    "from glob import glob\n",
    "import pandas as pd\n",
    "import numpy as np\n",
    "from typing import List\n",
    "from sklearn.base import BaseEstimator, TransformerMixin"
   ]
  },
  {
   "cell_type": "markdown",
   "metadata": {},
   "source": [
    "# Data Loading"
   ]
  },
  {
   "cell_type": "code",
   "execution_count": 229,
   "metadata": {},
   "outputs": [],
   "source": [
    "datasets_paths = glob(\"../data/*.csv\")\n",
    "datasets: List[pd.DataFrame] = [pd.read_csv(path) for path in datasets_paths]"
   ]
  },
  {
   "cell_type": "markdown",
   "metadata": {},
   "source": [
    "# Data Preparation"
   ]
  },
  {
   "cell_type": "markdown",
   "metadata": {},
   "source": [
    "- Treat the records with `anomaly = True` from the dataset, and then impute them.\n",
    "- Remove the `anomaly` column from the dataset."
   ]
  },
  {
   "cell_type": "code",
   "execution_count": 230,
   "metadata": {},
   "outputs": [],
   "source": [
    "for i, dataset in enumerate(datasets):\n",
    "    if \"anomaly\" in dataset.columns:\n",
    "        # Replace anomalies with 'NaN'\n",
    "        dataset.loc[dataset.anomaly == 1, \"value\"] = np.nan\n",
    "\n",
    "        # Remove the 'anomaly' column\n",
    "        dataset = dataset.drop(columns=[\"anomaly\"])\n",
    "\n",
    "        # Update the dataset\n",
    "        datasets[i] = dataset"
   ]
  },
  {
   "cell_type": "markdown",
   "metadata": {},
   "source": [
    "- Convert the timestamp column to the `datetime` datatype\n",
    "- Set the timestamp column as the index of the dataframe"
   ]
  },
  {
   "cell_type": "code",
   "execution_count": 231,
   "metadata": {},
   "outputs": [],
   "source": [
    "for i, dataset in enumerate(datasets):\n",
    "    # Convert the 'timestamp' column to datetime\n",
    "    dataset[\"timestamp\"] = pd.to_datetime(dataset[\"timestamp\"])\n",
    "\n",
    "    # Set the 'timestamp' column as the index\n",
    "    dataset = dataset.set_index(\"timestamp\")\n",
    "\n",
    "    # Update the dataset\n",
    "    datasets[i] = dataset"
   ]
  },
  {
   "cell_type": "markdown",
   "metadata": {},
   "source": [
    "- Remove Outliers"
   ]
  },
  {
   "cell_type": "code",
   "execution_count": 232,
   "metadata": {},
   "outputs": [],
   "source": [
    "class OutlierTransformer(BaseEstimator, TransformerMixin):\n",
    "    def __init__(self, threshold=3):\n",
    "        self.threshold = threshold\n",
    "\n",
    "    def fit(self, X, y=None):\n",
    "        return self\n",
    "\n",
    "    def __zscore(self, X):\n",
    "        X = np.nan_to_num(X, copy=True, nan=0)  # Convert the NaN values to 0\n",
    "        return (X - np.mean(X)) / np.std(X)\n",
    "\n",
    "    def transform(self, X: pd.DataFrame, y=None):\n",
    "        \"\"\"\n",
    "        Calculate the z-score for each column in the DataFrame and remove the rows with z-score > threshold\n",
    "        \"\"\"\n",
    "\n",
    "        X_copy = X.copy().to_numpy()\n",
    "        for i in range(X_copy.shape[1]):\n",
    "            column = X_copy[:, i]\n",
    "            z_scores = self.__zscore(column)\n",
    "            outliers = np.abs(z_scores) > self.threshold\n",
    "            X_copy[outliers] = np.nan\n",
    "\n",
    "        return X_copy"
   ]
  },
  {
   "cell_type": "code",
   "execution_count": 264,
   "metadata": {},
   "outputs": [],
   "source": [
    "datasets = [OutlierTransformer().fit_transform(dataset) for dataset in datasets]"
   ]
  },
  {
   "cell_type": "markdown",
   "metadata": {},
   "source": [
    "# Data Preprocessing Pipeline"
   ]
  },
  {
   "cell_type": "markdown",
   "metadata": {},
   "source": [
    "## Data Cleaning"
   ]
  }
 ],
 "metadata": {
  "kernelspec": {
   "display_name": "aienv",
   "language": "python",
   "name": "python3"
  },
  "language_info": {
   "codemirror_mode": {
    "name": "ipython",
    "version": 3
   },
   "file_extension": ".py",
   "mimetype": "text/x-python",
   "name": "python",
   "nbconvert_exporter": "python",
   "pygments_lexer": "ipython3",
   "version": "3.12.0"
  }
 },
 "nbformat": 4,
 "nbformat_minor": 2
}
