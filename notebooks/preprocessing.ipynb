{
 "cells": [
  {
   "cell_type": "markdown",
   "metadata": {},
   "source": [
    "# Import Libraries"
   ]
  },
  {
   "cell_type": "code",
   "execution_count": 266,
   "metadata": {},
   "outputs": [],
   "source": [
    "from glob import glob\n",
    "import pandas as pd\n",
    "import numpy as np\n",
    "from typing import List\n",
    "from sklearn.base import BaseEstimator, TransformerMixin"
   ]
  },
  {
   "cell_type": "markdown",
   "metadata": {},
   "source": [
    "# Data Loading"
   ]
  },
  {
   "cell_type": "code",
   "execution_count": 267,
   "metadata": {},
   "outputs": [],
   "source": [
    "datasets_paths = glob(\"../data/*.csv\")\n",
    "datasets: List[pd.DataFrame] = [pd.read_csv(path) for path in datasets_paths]"
   ]
  },
  {
   "cell_type": "markdown",
   "metadata": {},
   "source": [
    "# Data Preparation"
   ]
  },
  {
   "cell_type": "markdown",
   "metadata": {},
   "source": [
    "- Treat the records with `anomaly = True` from the dataset, and then impute them.\n",
    "- Remove the `anomaly` column from the dataset."
   ]
  },
  {
   "cell_type": "code",
   "execution_count": 268,
   "metadata": {},
   "outputs": [],
   "source": [
    "for i, dataset in enumerate(datasets):\n",
    "    if \"anomaly\" in dataset.columns:\n",
    "        # Replace anomalies with 'NaN'\n",
    "        dataset.loc[dataset.anomaly == 1, \"value\"] = np.nan\n",
    "\n",
    "        # Remove the 'anomaly' column\n",
    "        dataset = dataset.drop(columns=[\"anomaly\"])\n",
    "\n",
    "        # Update the dataset\n",
    "        datasets[i] = dataset"
   ]
  },
  {
   "cell_type": "markdown",
   "metadata": {},
   "source": [
    "- Convert the timestamp column to the `datetime` datatype\n",
    "- Set the timestamp column as the index of the dataframe"
   ]
  },
  {
   "cell_type": "code",
   "execution_count": 269,
   "metadata": {},
   "outputs": [],
   "source": [
    "for i, dataset in enumerate(datasets):\n",
    "    # Convert the 'timestamp' column to datetime\n",
    "    dataset[\"timestamp\"] = pd.to_datetime(dataset[\"timestamp\"])\n",
    "\n",
    "    # Set the 'timestamp' column as the index\n",
    "    dataset = dataset.set_index(\"timestamp\")\n",
    "\n",
    "    # Update the dataset\n",
    "    datasets[i] = dataset"
   ]
  },
  {
   "cell_type": "markdown",
   "metadata": {},
   "source": [
    "- Remove Outliers"
   ]
  },
  {
   "cell_type": "code",
   "execution_count": 270,
   "metadata": {},
   "outputs": [],
   "source": [
    "class OutlierTransformer(BaseEstimator, TransformerMixin):\n",
    "    def __init__(self, threshold=3):\n",
    "        self.threshold = threshold\n",
    "\n",
    "    def fit(self, X, y=None):\n",
    "        return self\n",
    "\n",
    "    def __zscore(self, X):\n",
    "        X = np.nan_to_num(X, copy=True, nan=0)  # Convert the NaN values to 0\n",
    "        return (X - np.mean(X)) / np.std(X)\n",
    "\n",
    "    def transform(self, X: pd.DataFrame, y=None):\n",
    "        \"\"\"\n",
    "        Calculate the z-score for each column in the DataFrame and remove the rows with z-score > threshold\n",
    "        \"\"\"\n",
    "\n",
    "        X_copy = X.copy().to_numpy()\n",
    "        for i in range(X_copy.shape[1]):\n",
    "            column = X_copy[:, i]\n",
    "            z_scores = self.__zscore(column)\n",
    "            outliers = np.abs(z_scores) > self.threshold\n",
    "            X_copy[outliers] = np.nan\n",
    "\n",
    "        return X_copy"
   ]
  },
  {
   "cell_type": "code",
   "execution_count": 272,
   "metadata": {},
   "outputs": [],
   "source": [
    "datasets = [\n",
    "    pd.DataFrame(data=values, columns=dataset.columns, index=dataset.index)\n",
    "    for values, dataset in zip(\n",
    "        [OutlierTransformer().fit_transform(dataset) for dataset in datasets], datasets\n",
    "    )\n",
    "]"
   ]
  },
  {
   "cell_type": "code",
   "execution_count": 273,
   "metadata": {},
   "outputs": [
    {
     "data": {
      "text/html": [
       "<div>\n",
       "<style scoped>\n",
       "    .dataframe tbody tr th:only-of-type {\n",
       "        vertical-align: middle;\n",
       "    }\n",
       "\n",
       "    .dataframe tbody tr th {\n",
       "        vertical-align: top;\n",
       "    }\n",
       "\n",
       "    .dataframe thead th {\n",
       "        text-align: right;\n",
       "    }\n",
       "</style>\n",
       "<table border=\"1\" class=\"dataframe\">\n",
       "  <thead>\n",
       "    <tr style=\"text-align: right;\">\n",
       "      <th></th>\n",
       "      <th>value</th>\n",
       "    </tr>\n",
       "    <tr>\n",
       "      <th>timestamp</th>\n",
       "      <th></th>\n",
       "    </tr>\n",
       "  </thead>\n",
       "  <tbody>\n",
       "    <tr>\n",
       "      <th>2021-07-01 00:00:00</th>\n",
       "      <td>0.416510</td>\n",
       "    </tr>\n",
       "    <tr>\n",
       "      <th>2021-07-01 01:00:00</th>\n",
       "      <td>NaN</td>\n",
       "    </tr>\n",
       "    <tr>\n",
       "      <th>2021-07-01 02:00:00</th>\n",
       "      <td>0.536902</td>\n",
       "    </tr>\n",
       "    <tr>\n",
       "      <th>2021-07-01 03:00:00</th>\n",
       "      <td>NaN</td>\n",
       "    </tr>\n",
       "    <tr>\n",
       "      <th>2021-07-01 04:00:00</th>\n",
       "      <td>0.707928</td>\n",
       "    </tr>\n",
       "  </tbody>\n",
       "</table>\n",
       "</div>"
      ],
      "text/plain": [
       "                        value\n",
       "timestamp                    \n",
       "2021-07-01 00:00:00  0.416510\n",
       "2021-07-01 01:00:00       NaN\n",
       "2021-07-01 02:00:00  0.536902\n",
       "2021-07-01 03:00:00       NaN\n",
       "2021-07-01 04:00:00  0.707928"
      ]
     },
     "execution_count": 273,
     "metadata": {},
     "output_type": "execute_result"
    }
   ],
   "source": []
  },
  {
   "cell_type": "markdown",
   "metadata": {},
   "source": [
    "# Data Preprocessing Pipeline"
   ]
  },
  {
   "cell_type": "markdown",
   "metadata": {},
   "source": [
    "## Data Cleaning"
   ]
  }
 ],
 "metadata": {
  "kernelspec": {
   "display_name": "aienv",
   "language": "python",
   "name": "python3"
  },
  "language_info": {
   "codemirror_mode": {
    "name": "ipython",
    "version": 3
   },
   "file_extension": ".py",
   "mimetype": "text/x-python",
   "name": "python",
   "nbconvert_exporter": "python",
   "pygments_lexer": "ipython3",
   "version": "3.12.0"
  }
 },
 "nbformat": 4,
 "nbformat_minor": 2
}
